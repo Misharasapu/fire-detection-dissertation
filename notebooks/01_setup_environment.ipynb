{
 "nbformat": 4,
 "nbformat_minor": 0,
 "metadata": {
  "colab": {
   "provenance": [],
   "authorship_tag": "ABX9TyM2KSvuvNB9uHnt27epZp7h"
  },
  "kernelspec": {
   "name": "python3",
   "display_name": "Python 3"
  },
  "language_info": {
   "name": "python"
  }
 },
 "cells": [
  {
   "cell_type": "markdown",
   "source": [
    "# 01_setup_environment.ipynb\n",
    "\n",
    "This notebook prepares the development environment for the fire detection dissertation project. It performs the following setup tasks:\n",
    "\n",
    "- Mounts Google Drive for persistent access to datasets, models, and outputs.  \n",
    "- Creates and verifies the required folder structure in Drive (if not already present).  \n",
    "- Securely loads a GitHub access token stored in Drive and clones the project repository into the Colab environment.  \n",
    "- Configures the Git identity for proper commit tracking (required once per session).  \n",
    "\n",
    "> **Note:** This notebook should be executed at the start of each Colab session.  \n",
    "> The GitHub token is stored securely in Drive and must **never** be committed to GitHub.\n"
   ],
   "metadata": {
    "id": "1BAr0hKJbHWW"
   }
  },
  {
   "cell_type": "markdown",
   "source": [
    "## Step 1: Mount Google Drive\n",
    "\n",
    "This step mounts Google Drive into the Colab environment at `/content/drive`.  \n",
    "It provides persistent access to datasets, trained models, results, and the GitHub access token.  \n",
    "All project files are organized under the directory `/MyDrive/fire-detection-dissertation/`.\n",
    "\n",
    "Run this cell once at the start of each session. You will be prompted to authorize access to Google Drive.\n"
   ],
   "metadata": {
    "id": "M_uXzDCeMLV8"
   }
  },
  {
   "cell_type": "code",
   "execution_count": 1,
   "metadata": {
    "colab": {
     "base_uri": "https://localhost:8080/"
    },
    "id": "IEiETdhTIMLv",
    "executionInfo": {
     "status": "ok",
     "timestamp": 1750855596751,
     "user_tz": -60,
     "elapsed": 25337,
     "user": {
      "displayName": "Mishara Sapukotanage",
      "userId": "02206396968881771481"
     }
    },
    "outputId": "a42d454c-35e7-45c2-a3c2-e7ee37423950"
   },
   "outputs": [
    {
     "output_type": "stream",
     "name": "stdout",
     "text": [
      "Mounted at /content/drive\n"
     ]
    }
   ],
   "source": [
    "# Mount Google Drive to enable persistent storage access\n",
    "from google.colab import drive\n",
    "\n",
    "drive.mount(\"/content/drive\")\n",
    "\n",
    "# Project files are located under: /MyDrive/fire-detection-dissertation/\n"
   ]
  },
  {
   "cell_type": "markdown",
   "source": [
    "## Step 2: Create Project Folder Structure in Drive\n",
    "\n",
    "This step defines the base directory for the project in Google Drive and creates a consistent folder structure to organize all files.  \n",
    "The root directory is: `/MyDrive/fire-detection-dissertation/`.\n",
    "\n",
    "The folders include:  \n",
    "- `data/raw` → unprocessed datasets (e.g., real D-Fire, PLOS ONE, and synthetic Yunnan/SYN-FIRE).  \n",
    "- `models` → trained model checkpoints for each phase of experimentation.  \n",
    "- `figures` → saved outputs including confusion matrices, ROC/PR curves, and Grad-CAM visualizations.  \n",
    "- `results` → evaluation metrics in JSON format, along with tables and summary outputs.  \n",
    "- `notebooks` → a backup location for working notebooks stored alongside project data.  \n",
    "\n",
    "This cell is safe to re-run; it will create any missing folders but will not overwrite existing ones.\n"
   ],
   "metadata": {
    "id": "xKVWPU2fMN9G"
   }
  },
  {
   "cell_type": "code",
   "source": [
    "# Define the base project directory in Google Drive\n",
    "base_path = \"/content/drive/MyDrive/fire-detection-dissertation\"\n",
    "\n",
    "# Create the standard folder structure if not already present\n",
    "!mkdir -p {base_path}/data/raw\n",
    "!mkdir -p {base_path}/models\n",
    "!mkdir -p {base_path}/figures\n",
    "!mkdir -p {base_path}/results\n",
    "!mkdir -p {base_path}/notebooks\n",
    "\n",
    "# List the full project directory tree to verify setup\n",
    "!ls -R {base_path}\n"
   ],
   "metadata": {
    "id": "fmz5VfKuJFoG",
    "executionInfo": {
     "status": "ok",
     "timestamp": 1750856761358,
     "user_tz": -60,
     "elapsed": 728,
     "user": {
      "displayName": "Mishara Sapukotanage",
      "userId": "02206396968881771481"
     }
    },
    "colab": {
     "base_uri": "https://localhost:8080/"
    },
    "outputId": "9e2b85d2-8449-44c6-a3ad-88f2dce26b87"
   },
   "execution_count": 9,
   "outputs": [
    {
     "output_type": "stream",
     "name": "stdout",
     "text": [
      "/content/drive/MyDrive/fire-detection-dissertation:\n",
      "data  figures  models  notebooks  results  secrets\n",
      "\n",
      "/content/drive/MyDrive/fire-detection-dissertation/data:\n",
      "processed  raw\n",
      "\n",
      "/content/drive/MyDrive/fire-detection-dissertation/data/processed:\n",
      "\n",
      "/content/drive/MyDrive/fire-detection-dissertation/data/raw:\n",
      "\n",
      "/content/drive/MyDrive/fire-detection-dissertation/figures:\n",
      "\n",
      "/content/drive/MyDrive/fire-detection-dissertation/models:\n",
      "\n",
      "/content/drive/MyDrive/fire-detection-dissertation/notebooks:\n",
      "01_setup_environment.ipynb\n",
      "\n",
      "/content/drive/MyDrive/fire-detection-dissertation/results:\n",
      "\n",
      "/content/drive/MyDrive/fire-detection-dissertation/secrets:\n",
      "github_token.txt\n"
     ]
    }
   ]
  },
  {
   "cell_type": "markdown",
   "source": [
    "## Step 3: Load GitHub Token and Clone Repository\n",
    "\n",
    "This step securely loads the GitHub personal access token from a hidden file stored in Google Drive.  \n",
    "Using this token, the project repository is cloned into the Colab workspace under `/content/`.\n",
    "\n",
    "Key points:  \n",
    "- The token is stored at `secrets/github_token.txt` in Drive and must **never** be pushed to GitHub.  \n",
    "- The repository is freshly cloned into `/content/` at the start of each session.  \n",
    "- If a local copy already exists, it is removed before re-cloning to avoid conflicts.  \n",
    "\n",
    "This process ensures a reproducible setup and guarantees access to the most recent version of the repository.\n"
   ],
   "metadata": {
    "id": "-pDrSD9RMO-H"
   }
  },
  {
   "cell_type": "code",
   "source": [
    "# Step 3: Load GitHub token from Drive and clone the project repository\n",
    "\n",
    "# Path to the stored GitHub personal access token\n",
    "token_path = \"/content/drive/MyDrive/fire-detection-dissertation/secrets/github_token.txt\"\n",
    "\n",
    "# Read the token securely\n",
    "with open(token_path, \"r\") as f:\n",
    "    token = f.read().strip()\n",
    "\n",
    "# GitHub repository details\n",
    "username = \"Misharasapu\"  \n",
    "repo = \"fire-detection-dissertation\"\n",
    "\n",
    "# Construct the HTTPS clone URL using the token\n",
    "clone_url = f\"https://{token}@github.com/{username}/{repo}.git\"\n",
    "\n",
    "# Remove any existing local copy to avoid conflicts (safe to re-run)\n",
    "!rm -rf /content/{repo}\n",
    "\n",
    "# Clone the repository into the Colab environment\n",
    "%cd /content\n",
    "!git clone {clone_url}\n",
    "%cd {repo}\n"
   ],
   "metadata": {
    "colab": {
     "base_uri": "https://localhost:8080/"
    },
    "id": "FX29C-rSXITV",
    "executionInfo": {
     "status": "ok",
     "timestamp": 1750855599851,
     "user_tz": -60,
     "elapsed": 2001,
     "user": {
      "displayName": "Mishara Sapukotanage",
      "userId": "02206396968881771481"
     }
    },
    "outputId": "27540e90-c64e-4295-c9b5-94891149da61"
   },
   "execution_count": 4,
   "outputs": [
    {
     "output_type": "stream",
     "name": "stdout",
     "text": [
      "/content\n",
      "Cloning into 'fire-detection-dissertation'...\n",
      "remote: Enumerating objects: 7, done.\u001B[K\n",
      "remote: Counting objects: 100% (7/7), done.\u001B[K\n",
      "remote: Compressing objects: 100% (7/7), done.\u001B[K\n",
      "remote: Total 7 (delta 0), reused 3 (delta 0), pack-reused 0 (from 0)\u001B[K\n",
      "Receiving objects: 100% (7/7), done.\n",
      "/content/fire-detection-dissertation\n"
     ]
    }
   ]
  },
  {
   "cell_type": "markdown",
   "source": [
    "## Step 4: Configure Git Identity for Commits\n",
    "\n",
    "This step sets the Git author information (name and email) so that any commits made from Colab are correctly attributed to your GitHub account.  \n",
    "\n",
    "Because Colab resets its environment each time it restarts, this configuration must be repeated at the start of every new session.  \n",
    "\n",
    "If this step is omitted, Git will raise an \"author identity unknown\" error when attempting to commit.\n"
   ],
   "metadata": {
    "id": "f59U2B12MQw8"
   }
  },
  {
   "cell_type": "code",
   "source": [
    "# Configure Git author identity for commits in this session\n",
    "!git config --global user.name \"Misharasapu\"\n",
    "!git config --global user.email \"misharasapu@gmail.com\"\n"
   ],
   "metadata": {
    "id": "lAjuHvlSKftG",
    "executionInfo": {
     "status": "ok",
     "timestamp": 1750856371713,
     "user_tz": -60,
     "elapsed": 207,
     "user": {
      "displayName": "Mishara Sapukotanage",
      "userId": "02206396968881771481"
     }
    }
   },
   "execution_count": 7,
   "outputs": []
  },
  {
   "cell_type": "markdown",
   "source": [
    "## Step 5: Overwrite and Confirm `.gitignore` Rules\n",
    "\n",
    "This step ensures the repository’s `.gitignore` file contains the necessary rules to exclude non-essential files from version control.  \n",
    "\n",
    "The following items are excluded:  \n",
    "- Python cache files and virtual environments.  \n",
    "- Notebook checkpoints and system/OS files.  \n",
    "- Model checkpoints (e.g., `.pt`, `.pth`, `.h5`).  \n",
    "- Large project folders (`data/`, `models/`, `figures/`, `results/`, `secrets/`).  \n",
    "- The Google Drive mount directory.  \n",
    "\n",
    "The cell overwrites the `.gitignore` file in the cloned repository and prints its contents for verification.\n"
   ],
   "metadata": {
    "id": "-NeFZO3zMRix"
   }
  },
  {
   "cell_type": "code",
   "source": [
    "%cd /content/fire-detection-dissertation\n",
    "\n",
    "# Step 5: Overwrite .gitignore with project-specific rules\n",
    "custom_gitignore = \"\"\"\n",
    "# Python cache and virtual environments\n",
    "__pycache__/\n",
    "*.py[cod]\n",
    "*.so\n",
    ".env/\n",
    "venv/\n",
    "dist/\n",
    "build/\n",
    "\n",
    "# Notebook checkpoints and system files\n",
    ".ipynb_checkpoints/\n",
    ".DS_Store\n",
    "\n",
    "# Output files and logs\n",
    "*.log\n",
    "*.out\n",
    "*.zip\n",
    "\n",
    "# Model checkpoints\n",
    "*.pt\n",
    "*.pth\n",
    "*.h5\n",
    "\n",
    "# Project directories to exclude from version control\n",
    "data/\n",
    "models/\n",
    "figures/\n",
    "results/\n",
    "secrets/\n",
    "\n",
    "# Google Drive mount directory\n",
    "drive/\n",
    "\"\"\"\n",
    "\n",
    "# Write the updated .gitignore file\n",
    "gitignore_path = \"/content/fire-detection-dissertation/.gitignore\"\n",
    "with open(gitignore_path, \"w\") as f:\n",
    "    f.write(custom_gitignore.strip())\n",
    "\n",
    "# Display the .gitignore contents for verification\n",
    "print(\".gitignore contents:\\n\")\n",
    "!cat /content/fire-detection-dissertation/.gitignore\n"
   ],
   "metadata": {
    "colab": {
     "base_uri": "https://localhost:8080/"
    },
    "id": "4z0trsgCXf1x",
    "executionInfo": {
     "status": "ok",
     "timestamp": 1750856236270,
     "user_tz": -60,
     "elapsed": 212,
     "user": {
      "displayName": "Mishara Sapukotanage",
      "userId": "02206396968881771481"
     }
    },
    "outputId": "aebdbc0e-9902-472a-92c5-cd4160c53c79"
   },
   "execution_count": 6,
   "outputs": [
    {
     "output_type": "stream",
     "name": "stdout",
     "text": [
      "/content/fire-detection-dissertation\n",
      "✅ .gitignore contents:\n",
      "# Python cache and virtual envs\n",
      "__pycache__/\n",
      "*.py[cod]\n",
      "*.so\n",
      ".env/\n",
      "venv/\n",
      "dist/\n",
      "build/\n",
      "\n",
      "# Notebook checkpoints and system files\n",
      ".ipynb_checkpoints/\n",
      ".DS_Store\n",
      "\n",
      "# Output files and logs\n",
      "*.log\n",
      "*.out\n",
      "*.zip\n",
      "\n",
      "# Model checkpoints\n",
      "*.pt\n",
      "*.pth\n",
      "*.h5\n",
      "\n",
      "# Project folders not to track\n",
      "data/\n",
      "models/\n",
      "figures/\n",
      "results/\n",
      "secrets/\n",
      "\n",
      "# Google Drive mount (just in case)\n",
      "drive/"
     ]
    }
   ]
  },
  {
   "cell_type": "markdown",
   "source": [
    "## Step 6: Create Folder Structure in the GitHub Repository\n",
    "\n",
    "This step creates the internal folder structure within the cloned GitHub repository.  \n",
    "These folders organize project notebooks and utility scripts consistently:\n",
    "\n",
    "- `notebooks/` → experiment and development notebooks.  \n",
    "- `utils/` → reusable Python modules (e.g., dataset classes, training functions, evaluation helpers).  \n",
    "\n",
    "This step only needs to be executed once after cloning, but is included in the setup notebook for completeness and reproducibility.\n"
   ],
   "metadata": {
    "id": "1Yxwjf34OWb6"
   }
  },
  {
   "cell_type": "code",
   "source": [
    "# Step 6: Create the standard folder structure inside the cloned GitHub repository\n",
    "!mkdir -p /content/fire-detection-dissertation/notebooks\n",
    "!mkdir -p /content/fire-detection-dissertation/utils\n"
   ],
   "metadata": {
    "id": "g6cOanh-NzC-",
    "executionInfo": {
     "status": "ok",
     "timestamp": 1750857280004,
     "user_tz": -60,
     "elapsed": 206,
     "user": {
      "displayName": "Mishara Sapukotanage",
      "userId": "02206396968881771481"
     }
    }
   },
   "execution_count": 11,
   "outputs": []
  },
  {
   "cell_type": "code",
   "source": [
    "!cp /content/drive/MyDrive/fire-detection-dissertation/notebooks/01_setup_environment.ipynb /content/fire-detection-dissertation/notebooks/\n"
   ],
   "metadata": {
    "id": "vIB04fg1Oehu"
   },
   "execution_count": null,
   "outputs": []
  }
 ]
}
